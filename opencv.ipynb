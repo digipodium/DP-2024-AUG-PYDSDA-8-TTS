{
 "cells": [
  {
   "cell_type": "code",
   "execution_count": 3,
   "metadata": {},
   "outputs": [],
   "source": [
    "import cv2"
   ]
  },
  {
   "cell_type": "code",
   "execution_count": 4,
   "metadata": {},
   "outputs": [],
   "source": [
    "image = cv2.imread(\"pic.jpg\")\n",
    "\n",
    "if image is not None:\n",
    "    cv2.imshow(\"Image\", image)\n",
    "    cv2.waitKey(0) #waitkey is used to wait for a key press to close the window and 0 is used to wait indefinitely\n",
    "    cv2.destroyAllWindows()\n",
    "else:\n",
    "    print(\"Image not found\")"
   ]
  },
  {
   "cell_type": "code",
   "execution_count": 5,
   "metadata": {},
   "outputs": [],
   "source": [
    "gray_image = cv2.cvtColor(image, cv2.COLOR_BGR2GRAY)\n",
    "cv2.imshow('Gray Image', gray_image)\n",
    "cv2.waitKey(0)\n",
    "cv2.destroyAllWindows()"
   ]
  },
  {
   "cell_type": "code",
   "execution_count": 6,
   "metadata": {},
   "outputs": [],
   "source": [
    "blurred_image = cv2.GaussianBlur(image, (15,15),0) # (15,15) is the kernel size and kernel size means the size of the filter\n",
    "cv2.imshow(\"Blurred Image\", blurred_image)\n",
    "cv2.waitKey(0)\n",
    "cv2.destroyAllWindows()"
   ]
  },
  {
   "cell_type": "code",
   "execution_count": 7,
   "metadata": {},
   "outputs": [],
   "source": [
    "edges = cv2.Canny(gray_image, 100, 200) # 100 is the lower threshold and 200 is the upper threshold, threshold is the minimum value of the gradient\n",
    "cv2.imshow(\"Edges\", edges)\n",
    "cv2.waitKey(0)\n",
    "cv2.destroyAllWindows()"
   ]
  },
  {
   "cell_type": "code",
   "execution_count": 8,
   "metadata": {},
   "outputs": [
    {
     "name": "stdout",
     "output_type": "stream",
     "text": [
      "(721, 894, 3)\n"
     ]
    }
   ],
   "source": [
    "image = cv2.imread(\"pic.jpg\")\n",
    "print(image.shape) #721 is the height, 894 is the width and 3 is the number of channels, channels are the number of colors in the image\n",
    "\n",
    "#resize image\n",
    "resizedImage = cv2.resize(image, (300,300)) # (300,300) is the new size of the image\n",
    "\n",
    "#cropped image\n",
    "cropeedImage = image[0:200, 200:500] # [0:200, 200:500] is the height and width of the image\n",
    "\n",
    "cv2.imshow('Image', image)\n",
    "cv2.imshow('Resized Image', resizedImage)\n",
    "cv2.imshow('Cropped Image', cropeedImage)\n",
    "cv2.waitKey(0)\n",
    "cv2.destroyAllWindows()"
   ]
  },
  {
   "cell_type": "code",
   "execution_count": 1,
   "metadata": {},
   "outputs": [
    {
     "ename": "NameError",
     "evalue": "name 'image' is not defined",
     "output_type": "error",
     "traceback": [
      "\u001b[1;31m---------------------------------------------------------------------------\u001b[0m",
      "\u001b[1;31mNameError\u001b[0m                                 Traceback (most recent call last)",
      "Cell \u001b[1;32mIn[1], line 1\u001b[0m\n\u001b[1;32m----> 1\u001b[0m drawing \u001b[38;5;241m=\u001b[39m \u001b[43mimage\u001b[49m\u001b[38;5;241m.\u001b[39mcopy()\n\u001b[0;32m      2\u001b[0m cv2\u001b[38;5;241m.\u001b[39mrectangle(drawing, (\u001b[38;5;241m50\u001b[39m,\u001b[38;5;241m50\u001b[39m), (\u001b[38;5;241m200\u001b[39m,\u001b[38;5;241m200\u001b[39m), (\u001b[38;5;241m0\u001b[39m,\u001b[38;5;241m255\u001b[39m,\u001b[38;5;241m0\u001b[39m), \u001b[38;5;241m2\u001b[39m) \u001b[38;5;66;03m# (50,50) is the starting point and (200,200) is the ending point, (0,255,0) is the color of the rectangle and 2 is the thickness of the rectangle\u001b[39;00m\n\u001b[0;32m      3\u001b[0m cv2\u001b[38;5;241m.\u001b[39mcircle(drawing, (\u001b[38;5;241m300\u001b[39m,\u001b[38;5;241m300\u001b[39m), \u001b[38;5;241m50\u001b[39m, (\u001b[38;5;241m0\u001b[39m,\u001b[38;5;241m0\u001b[39m,\u001b[38;5;241m255\u001b[39m), \u001b[38;5;241m2\u001b[39m) \u001b[38;5;66;03m# (300,300) is the center of the circle, 50 is the radius of the circle, (0,0,255) is the color of the circle and 2 is the thickness of the circle\u001b[39;00m\n",
      "\u001b[1;31mNameError\u001b[0m: name 'image' is not defined"
     ]
    }
   ],
   "source": [
    "drawing = image.copy()\n",
    "cv2.rectangle(drawing, (50,50), (200,200), (0,255,0), 2) # (50,50) is the starting point and (200,200) is the ending point, (0,255,0) is the color of the rectangle and 2 is the thickness of the rectangle\n",
    "cv2.circle(drawing, (300,300), 50, (0,0,255), 2) # (300,300) is the center of the circle, 50 is the radius of the circle, (0,0,255) is the color of the circle and 2 is the thickness of the circle\n",
    "cv2.imshow('Drawing', drawing)\n",
    "cv2.waitKey(0)"
   ]
  },
  {
   "cell_type": "code",
   "execution_count": null,
   "metadata": {},
   "outputs": [],
   "source": []
  }
 ],
 "metadata": {
  "kernelspec": {
   "display_name": "base",
   "language": "python",
   "name": "python3"
  },
  "language_info": {
   "codemirror_mode": {
    "name": "ipython",
    "version": 3
   },
   "file_extension": ".py",
   "mimetype": "text/x-python",
   "name": "python",
   "nbconvert_exporter": "python",
   "pygments_lexer": "ipython3",
   "version": "3.12.3"
  }
 },
 "nbformat": 4,
 "nbformat_minor": 2
}
