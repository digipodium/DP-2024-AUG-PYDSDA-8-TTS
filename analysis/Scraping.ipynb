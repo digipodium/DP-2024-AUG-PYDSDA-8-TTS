{
 "cells": [
  {
   "cell_type": "code",
   "execution_count": 1,
   "metadata": {},
   "outputs": [],
   "source": [
    "from dputils.scrape import Scraper, Tag\n",
    "from pprint import pp"
   ]
  },
  {
   "cell_type": "markdown",
   "metadata": {},
   "source": [
    "- Tag class helps to decide what to collect from the page\n",
    "- Scraper executes the scraping process"
   ]
  },
  {
   "cell_type": "code",
   "execution_count": 2,
   "metadata": {},
   "outputs": [],
   "source": [
    "url = \"https://www.flipkart.com/search?q=mobiles&otracker=search&otracker1=search&marketplace=FLIPKART&as-show=on&as=off\""
   ]
  },
  {
   "cell_type": "code",
   "execution_count": 3,
   "metadata": {},
   "outputs": [
    {
     "data": {
      "text/plain": [
       "<bound method Scraper.get_repeating_date_from_page of <dputils.scrape.Scraper object at 0x000001AEF1DBC0D0>>"
      ]
     },
     "execution_count": 3,
     "metadata": {},
     "output_type": "execute_result"
    }
   ],
   "source": [
    "scraper = Scraper(url)\n",
    "scraper.get_repeating_date_from_page"
   ]
  },
  {
   "cell_type": "code",
   "execution_count": 4,
   "metadata": {},
   "outputs": [],
   "source": [
    "result = scraper.get_repeating_date_from_page(\n",
    "    target = Tag('div', cls='DOjaWF gdgoEp'),\n",
    "    items = Tag('div', cls='_75nlfW'),\n",
    "    title = Tag('div', cls='KzDlHZ'),\n",
    "    price = Tag('div', cls='Nx9bqj _4b5DiR'),\n",
    ")"
   ]
  },
  {
   "cell_type": "code",
   "execution_count": 5,
   "metadata": {},
   "outputs": [
    {
     "data": {
      "text/plain": [
       "[{'title': 'Apple iPhone 15 (Black, 128 GB)', 'price': '₹58,999'},\n",
       " {'title': 'Apple iPhone 15 (Pink, 128 GB)', 'price': '₹58,999'},\n",
       " {'title': 'Apple iPhone 15 (Green, 128 GB)', 'price': '₹58,999'},\n",
       " {'title': 'Apple iPhone 15 (Blue, 128 GB)', 'price': '₹58,999'},\n",
       " {'title': 'Motorola G85 5G (Olive Green, 128 GB)', 'price': '₹16,999'},\n",
       " {'title': 'Motorola Edge 50 Fusion (Marshmallow Blue, 128 GB)',\n",
       "  'price': '₹20,999'},\n",
       " {'title': 'Motorola Edge 50 Fusion (Forest Green, 256 GB)',\n",
       "  'price': '₹22,999'},\n",
       " {'title': 'Motorola g45 5G (Brilliant Blue, 128 GB)', 'price': '₹11,999'},\n",
       " {'title': 'Apple iPhone 15 Plus (Blue, 128 GB)', 'price': '₹67,999'},\n",
       " {'title': 'Apple iPhone 15 Plus (Black, 128 GB)', 'price': '₹67,999'},\n",
       " {'title': 'Apple iPhone 15 (Black, 256 GB)', 'price': '₹68,999'},\n",
       " {'title': 'Motorola G85 5G (Cobalt Blue, 256 GB)', 'price': '₹18,999'},\n",
       " {'title': 'Motorola Edge 50 Fusion (Marshmallow Blue, 256 GB)',\n",
       "  'price': '₹22,999'},\n",
       " {'title': 'Motorola Edge 50 Pro 5G with 125W Charger (Luxe Lavender, 256 GB)',\n",
       "  'price': '₹29,999'},\n",
       " {'title': 'Apple iPhone 15 Plus (Pink, 128 GB)', 'price': '₹67,999'},\n",
       " {'title': 'Apple iPhone 15 (Pink, 256 GB)', 'price': '₹68,999'},\n",
       " {'title': 'Motorola G85 5G (Cobalt Blue, 128 GB)', 'price': '₹16,999'},\n",
       " {'title': 'SAMSUNG Galaxy A14 5G (Light Green, 128 GB)', 'price': '₹20,999'},\n",
       " {'title': 'realme 12x 5G (Twilight Purple, 128 GB)', 'price': '₹13,499'},\n",
       " {'title': 'Motorola G85 5G (Urban Grey, 128 GB)', 'price': '₹16,999'},\n",
       " {'title': 'realme 12x 5G (Woodland Green, 128 GB)', 'price': '₹12,499'},\n",
       " {'title': 'realme 12x 5G (Twilight Purple, 128 GB)', 'price': '₹12,499'},\n",
       " {'title': 'Motorola Edge 50 Fusion (Hot Pink, 128 GB)', 'price': '₹20,999'},\n",
       " {'title': 'Motorola g45 5G (Brilliant Green, 128 GB)', 'price': '₹11,999'}]"
      ]
     },
     "execution_count": 5,
     "metadata": {},
     "output_type": "execute_result"
    }
   ],
   "source": [
    "result"
   ]
  },
  {
   "cell_type": "code",
   "execution_count": 6,
   "metadata": {},
   "outputs": [],
   "source": [
    "import pandas as pd"
   ]
  },
  {
   "cell_type": "code",
   "execution_count": 7,
   "metadata": {},
   "outputs": [],
   "source": [
    "df = pd.DataFrame(result)"
   ]
  },
  {
   "cell_type": "code",
   "execution_count": 8,
   "metadata": {},
   "outputs": [
    {
     "data": {
      "text/html": [
       "<div>\n",
       "<style scoped>\n",
       "    .dataframe tbody tr th:only-of-type {\n",
       "        vertical-align: middle;\n",
       "    }\n",
       "\n",
       "    .dataframe tbody tr th {\n",
       "        vertical-align: top;\n",
       "    }\n",
       "\n",
       "    .dataframe thead th {\n",
       "        text-align: right;\n",
       "    }\n",
       "</style>\n",
       "<table border=\"1\" class=\"dataframe\">\n",
       "  <thead>\n",
       "    <tr style=\"text-align: right;\">\n",
       "      <th></th>\n",
       "      <th>title</th>\n",
       "      <th>price</th>\n",
       "    </tr>\n",
       "  </thead>\n",
       "  <tbody>\n",
       "    <tr>\n",
       "      <th>0</th>\n",
       "      <td>Apple iPhone 15 (Black, 128 GB)</td>\n",
       "      <td>₹58,999</td>\n",
       "    </tr>\n",
       "    <tr>\n",
       "      <th>1</th>\n",
       "      <td>Apple iPhone 15 (Pink, 128 GB)</td>\n",
       "      <td>₹58,999</td>\n",
       "    </tr>\n",
       "    <tr>\n",
       "      <th>2</th>\n",
       "      <td>Apple iPhone 15 (Green, 128 GB)</td>\n",
       "      <td>₹58,999</td>\n",
       "    </tr>\n",
       "    <tr>\n",
       "      <th>3</th>\n",
       "      <td>Apple iPhone 15 (Blue, 128 GB)</td>\n",
       "      <td>₹58,999</td>\n",
       "    </tr>\n",
       "    <tr>\n",
       "      <th>4</th>\n",
       "      <td>Motorola G85 5G (Olive Green, 128 GB)</td>\n",
       "      <td>₹16,999</td>\n",
       "    </tr>\n",
       "    <tr>\n",
       "      <th>5</th>\n",
       "      <td>Motorola Edge 50 Fusion (Marshmallow Blue, 128...</td>\n",
       "      <td>₹20,999</td>\n",
       "    </tr>\n",
       "    <tr>\n",
       "      <th>6</th>\n",
       "      <td>Motorola Edge 50 Fusion (Forest Green, 256 GB)</td>\n",
       "      <td>₹22,999</td>\n",
       "    </tr>\n",
       "    <tr>\n",
       "      <th>7</th>\n",
       "      <td>Motorola g45 5G (Brilliant Blue, 128 GB)</td>\n",
       "      <td>₹11,999</td>\n",
       "    </tr>\n",
       "    <tr>\n",
       "      <th>8</th>\n",
       "      <td>Apple iPhone 15 Plus (Blue, 128 GB)</td>\n",
       "      <td>₹67,999</td>\n",
       "    </tr>\n",
       "    <tr>\n",
       "      <th>9</th>\n",
       "      <td>Apple iPhone 15 Plus (Black, 128 GB)</td>\n",
       "      <td>₹67,999</td>\n",
       "    </tr>\n",
       "    <tr>\n",
       "      <th>10</th>\n",
       "      <td>Apple iPhone 15 (Black, 256 GB)</td>\n",
       "      <td>₹68,999</td>\n",
       "    </tr>\n",
       "    <tr>\n",
       "      <th>11</th>\n",
       "      <td>Motorola G85 5G (Cobalt Blue, 256 GB)</td>\n",
       "      <td>₹18,999</td>\n",
       "    </tr>\n",
       "    <tr>\n",
       "      <th>12</th>\n",
       "      <td>Motorola Edge 50 Fusion (Marshmallow Blue, 256...</td>\n",
       "      <td>₹22,999</td>\n",
       "    </tr>\n",
       "    <tr>\n",
       "      <th>13</th>\n",
       "      <td>Motorola Edge 50 Pro 5G with 125W Charger (Lux...</td>\n",
       "      <td>₹29,999</td>\n",
       "    </tr>\n",
       "    <tr>\n",
       "      <th>14</th>\n",
       "      <td>Apple iPhone 15 Plus (Pink, 128 GB)</td>\n",
       "      <td>₹67,999</td>\n",
       "    </tr>\n",
       "    <tr>\n",
       "      <th>15</th>\n",
       "      <td>Apple iPhone 15 (Pink, 256 GB)</td>\n",
       "      <td>₹68,999</td>\n",
       "    </tr>\n",
       "    <tr>\n",
       "      <th>16</th>\n",
       "      <td>Motorola G85 5G (Cobalt Blue, 128 GB)</td>\n",
       "      <td>₹16,999</td>\n",
       "    </tr>\n",
       "    <tr>\n",
       "      <th>17</th>\n",
       "      <td>SAMSUNG Galaxy A14 5G (Light Green, 128 GB)</td>\n",
       "      <td>₹20,999</td>\n",
       "    </tr>\n",
       "    <tr>\n",
       "      <th>18</th>\n",
       "      <td>realme 12x 5G (Twilight Purple, 128 GB)</td>\n",
       "      <td>₹13,499</td>\n",
       "    </tr>\n",
       "    <tr>\n",
       "      <th>19</th>\n",
       "      <td>Motorola G85 5G (Urban Grey, 128 GB)</td>\n",
       "      <td>₹16,999</td>\n",
       "    </tr>\n",
       "    <tr>\n",
       "      <th>20</th>\n",
       "      <td>realme 12x 5G (Woodland Green, 128 GB)</td>\n",
       "      <td>₹12,499</td>\n",
       "    </tr>\n",
       "    <tr>\n",
       "      <th>21</th>\n",
       "      <td>realme 12x 5G (Twilight Purple, 128 GB)</td>\n",
       "      <td>₹12,499</td>\n",
       "    </tr>\n",
       "    <tr>\n",
       "      <th>22</th>\n",
       "      <td>Motorola Edge 50 Fusion (Hot Pink, 128 GB)</td>\n",
       "      <td>₹20,999</td>\n",
       "    </tr>\n",
       "    <tr>\n",
       "      <th>23</th>\n",
       "      <td>Motorola g45 5G (Brilliant Green, 128 GB)</td>\n",
       "      <td>₹11,999</td>\n",
       "    </tr>\n",
       "  </tbody>\n",
       "</table>\n",
       "</div>"
      ],
      "text/plain": [
       "                                                title    price\n",
       "0                     Apple iPhone 15 (Black, 128 GB)  ₹58,999\n",
       "1                      Apple iPhone 15 (Pink, 128 GB)  ₹58,999\n",
       "2                     Apple iPhone 15 (Green, 128 GB)  ₹58,999\n",
       "3                      Apple iPhone 15 (Blue, 128 GB)  ₹58,999\n",
       "4               Motorola G85 5G (Olive Green, 128 GB)  ₹16,999\n",
       "5   Motorola Edge 50 Fusion (Marshmallow Blue, 128...  ₹20,999\n",
       "6      Motorola Edge 50 Fusion (Forest Green, 256 GB)  ₹22,999\n",
       "7            Motorola g45 5G (Brilliant Blue, 128 GB)  ₹11,999\n",
       "8                 Apple iPhone 15 Plus (Blue, 128 GB)  ₹67,999\n",
       "9                Apple iPhone 15 Plus (Black, 128 GB)  ₹67,999\n",
       "10                    Apple iPhone 15 (Black, 256 GB)  ₹68,999\n",
       "11              Motorola G85 5G (Cobalt Blue, 256 GB)  ₹18,999\n",
       "12  Motorola Edge 50 Fusion (Marshmallow Blue, 256...  ₹22,999\n",
       "13  Motorola Edge 50 Pro 5G with 125W Charger (Lux...  ₹29,999\n",
       "14                Apple iPhone 15 Plus (Pink, 128 GB)  ₹67,999\n",
       "15                     Apple iPhone 15 (Pink, 256 GB)  ₹68,999\n",
       "16              Motorola G85 5G (Cobalt Blue, 128 GB)  ₹16,999\n",
       "17        SAMSUNG Galaxy A14 5G (Light Green, 128 GB)  ₹20,999\n",
       "18            realme 12x 5G (Twilight Purple, 128 GB)  ₹13,499\n",
       "19               Motorola G85 5G (Urban Grey, 128 GB)  ₹16,999\n",
       "20             realme 12x 5G (Woodland Green, 128 GB)  ₹12,499\n",
       "21            realme 12x 5G (Twilight Purple, 128 GB)  ₹12,499\n",
       "22         Motorola Edge 50 Fusion (Hot Pink, 128 GB)  ₹20,999\n",
       "23          Motorola g45 5G (Brilliant Green, 128 GB)  ₹11,999"
      ]
     },
     "execution_count": 8,
     "metadata": {},
     "output_type": "execute_result"
    }
   ],
   "source": [
    "df"
   ]
  },
  {
   "cell_type": "code",
   "execution_count": null,
   "metadata": {},
   "outputs": [],
   "source": []
  }
 ],
 "metadata": {
  "kernelspec": {
   "display_name": "base",
   "language": "python",
   "name": "python3"
  },
  "language_info": {
   "codemirror_mode": {
    "name": "ipython",
    "version": 3
   },
   "file_extension": ".py",
   "mimetype": "text/x-python",
   "name": "python",
   "nbconvert_exporter": "python",
   "pygments_lexer": "ipython3",
   "version": "3.12.3"
  }
 },
 "nbformat": 4,
 "nbformat_minor": 2
}
